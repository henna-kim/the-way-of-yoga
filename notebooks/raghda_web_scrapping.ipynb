{
  "nbformat": 4,
  "nbformat_minor": 0,
  "metadata": {
    "colab": {
      "name": "raghda_web_scrapping.ipynb",
      "provenance": [],
      "collapsed_sections": []
    },
    "kernelspec": {
      "name": "python3",
      "display_name": "Python 3"
    },
    "language_info": {
      "name": "python"
    }
  },
  "cells": [
    {
      "cell_type": "code",
      "execution_count": null,
      "metadata": {
        "id": "KJ9W3ogyksmT"
      },
      "outputs": [],
      "source": [
        "# 1- use 1 location search link (example: Berlin)\n",
        "\n",
        "# 2- get the link to hotel details\n",
        "#<a href=\"/Hotel_Review-g187147-d228694-Reviews-Hotel_Malte_Astotel-Paris_Ile_de_France.html\" class=\"respListingPhoto\"/>\n",
        "# 3- save all the links from the search results to a list []\n",
        "# 4- iterate over the list and open each link\n",
        "# 5- check if hotel is green or not, if not green, skip\n",
        "# 6- if hotel is green, get teh following:\n",
        "#  - Hotel title\n",
        "#  - Price\n",
        "#  - Rating\n",
        "#  - number of reviews"
      ]
    },
    {
      "cell_type": "code",
      "source": [
        "import re\n",
        "import requests\n",
        "from bs4 import BeautifulSoup"
      ],
      "metadata": {
        "id": "rGUkxU4pqLPT"
      },
      "execution_count": null,
      "outputs": []
    },
    {
      "cell_type": "code",
      "source": [
        "# Send get request\n",
        "\n",
        "headers = {\n",
        "'authority': 'scrapeme.live',\n",
        "'dnt': '1',\n",
        "'upgrade-insecure-requests': '1',\n",
        "'user-agent': 'Mozilla/5.0 (Macintosh; Intel Mac OS X 10_15_4) AppleWebKit/537.36 (KHTML, like Gecko) Chrome/83.0.4103.61 Safari/537.36',\n",
        "'accept': 'text/html,application/xhtml+xml,application/xml;q=0.9,image/webp,image/apng,*/*;q=0.8,application/signed-exchange;v=b3;q=0.9',\n",
        "'sec-fetch-site': 'none',\n",
        "'sec-fetch-mode': 'navigate',\n",
        "'sec-fetch-user': '?1',\n",
        "'sec-fetch-dest': 'document',\n",
        "'accept-language': 'en-GB,en-US;q=0.9,en;q=0.8',\n",
        "}\n",
        "\n",
        "\n",
        "response = requests.get('https://www.tripadvisor.in/Hotels-g187147-Paris_Ile_de_France-Hotels.html')\n",
        "bsobj = BeautifulSoup(response.content,'lxml', headers=headers)\n"
      ],
      "metadata": {
        "id": "NW3-lr9pqQ-M"
      },
      "execution_count": null,
      "outputs": []
    },
    {
      "cell_type": "code",
      "source": [
        "bsobj"
      ],
      "metadata": {
        "id": "Ex-kNKYz9ybA"
      },
      "execution_count": null,
      "outputs": []
    },
    {
      "cell_type": "code",
      "source": [
        "# Grab all links\n",
        "\n",
        "links = []\n",
        "\n",
        "for review in bsobj.findAll('div',{'data-testid':'review_count'}):\n",
        "  a = review['href']\n",
        "  a = 'https://www.tripadvisor.in'+ a\n",
        "  links.append(a)\n",
        "links"
      ],
      "metadata": {
        "id": "9JwQVnTrwe5Q"
      },
      "execution_count": null,
      "outputs": []
    },
    {
      "cell_type": "code",
      "source": [
        "test_links = [\n",
        "              'https://www.tripadvisor.com/Hotel_Review-g187323-d589462-Reviews-Melia_Berlin-Berlin.html',\n",
        "              'https://www.tripadvisor.in/Hotel_Review-g187147-d207787-Reviews-Pavillon_Monceau_Hotel-Paris_Ile_de_France.html#REVIEWS'\n",
        "]\n",
        "\n",
        "for link in test_links:\n",
        "  details_response = requests.get(link)\n",
        "  details_html = BeautifulSoup(response.content,'lxml', headers=headers)\n",
        "  green_logo = details_html.findAll( 'span' , {'class': 'ui_icon green-leaders fxisZ H6'})\n",
        "  print(green_logo)\n",
        "  # span = green_logo['']"
      ],
      "metadata": {
        "id": "fAUmSKeUqWbH"
      },
      "execution_count": null,
      "outputs": []
    }
  ]
}